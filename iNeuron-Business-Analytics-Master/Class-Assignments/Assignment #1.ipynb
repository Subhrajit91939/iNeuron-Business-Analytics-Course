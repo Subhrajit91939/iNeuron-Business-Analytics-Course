{
 "cells": [
  {
   "cell_type": "code",
   "execution_count": 1,
   "metadata": {
    "ExecuteTime": {
     "end_time": "2022-08-18T14:17:50.951671Z",
     "start_time": "2022-08-18T14:17:50.923612Z"
    }
   },
   "outputs": [],
   "source": [
    "# List of order ID’s which are processed \n",
    "processed_orders = [1152, 1154, 1155, 1156, 1157, 1160, 1161, 1162, 1166, 1169, 1170, \n",
    "                    1172, 1176, 1050, 1178, 1051, 1052, 1054, 1058, 1060, 1061, 1062, \n",
    "                    1065, 1066, 1067, 1068, 1069, 1076, 1077, 1080, 1081, 1083, 1091, \n",
    "                    1085, 1088, 1089, 1131, 1092, 1094, 1095, 1099, 1102, 1103, 1104, \n",
    "                    1106, 1107, 1108, 1109, 1111, 1117, 1119, 1121, 1150, 1128, 1129, \n",
    "                    1136, 1137, 1139, 1140, 1141, 1144, 1148, 1124]\n",
    "\n",
    "# List of order ID’s which are returned\n",
    "returned_orders = [1153, 1158, 1159, 1163, 1164, 1165, 1167, 1168, 1171, 1173, 1174, \n",
    "                   1175, 1177, 1053, 1055, 1056, 1057, 1059, 1063, 1064, 1070, 1071, \n",
    "                   1072, 1073, 1074, 1075, 1078, 1079, 1082, 1084, 1086, 1087, 1090, \n",
    "                   1093, 1096, 1097, 1098, 1100, 1101, 1105, 1110, 1112, 1113, 1114, \n",
    "                   1115, 1116, 1118, 1120, 1122, 1123, 1125, 1126, 1127, 1130, 1132, \n",
    "                   1133, 1134, 1135, 1138, 1142, 1143, 1145, 1146, 1147, 1149, 1151]\n",
    "\n",
    "# Consider the information available in the above two lists and answer the question given below"
   ]
  },
  {
   "cell_type": "markdown",
   "metadata": {},
   "source": [
    "#### Count the total number of orders [ Orders include both processed and returned orders]\n",
    "\n",
    "- 63\n",
    "- 66\n",
    "- 126\n",
    "- 129"
   ]
  },
  {
   "cell_type": "code",
   "execution_count": 2,
   "metadata": {
    "ExecuteTime": {
     "end_time": "2022-08-18T14:17:50.967414Z",
     "start_time": "2022-08-18T14:17:50.953416Z"
    }
   },
   "outputs": [
    {
     "name": "stdout",
     "output_type": "stream",
     "text": [
      "Total number of orders: 129\n"
     ]
    }
   ],
   "source": [
    "# Type your code here\n",
    "print(f\"Total number of orders: {len(processed_orders) + len(returned_orders)}\")"
   ]
  },
  {
   "cell_type": "markdown",
   "metadata": {},
   "source": [
    "#### In the total orders, identify the 50th order [ Note: Assume the order ID’s are being generated in a consecutive manner]\n",
    "\n",
    "- 1152\n",
    "- 1099\n",
    "- 1154\n",
    "- 1100\n"
   ]
  },
  {
   "cell_type": "code",
   "execution_count": 3,
   "metadata": {
    "ExecuteTime": {
     "end_time": "2022-08-18T14:17:50.983337Z",
     "start_time": "2022-08-18T14:17:50.968375Z"
    }
   },
   "outputs": [
    {
     "name": "stdout",
     "output_type": "stream",
     "text": [
      "129\n"
     ]
    }
   ],
   "source": [
    "# Type your code here\n",
    "all_orders = []\n",
    "all_orders.extend(processed_orders)\n",
    "all_orders.extend(returned_orders)\n",
    "print(len(all_orders))"
   ]
  },
  {
   "cell_type": "code",
   "execution_count": 4,
   "metadata": {
    "ExecuteTime": {
     "end_time": "2022-08-18T14:17:50.998490Z",
     "start_time": "2022-08-18T14:17:50.985341Z"
    }
   },
   "outputs": [],
   "source": [
    "# Sorting the order numbers:\n",
    "all_orders = sorted(all_orders)"
   ]
  },
  {
   "cell_type": "code",
   "execution_count": 5,
   "metadata": {
    "ExecuteTime": {
     "end_time": "2022-08-18T14:17:51.013847Z",
     "start_time": "2022-08-18T14:17:50.999882Z"
    }
   },
   "outputs": [
    {
     "data": {
      "text/plain": [
       "1099"
      ]
     },
     "execution_count": 5,
     "metadata": {},
     "output_type": "execute_result"
    }
   ],
   "source": [
    "all_orders[49]"
   ]
  },
  {
   "cell_type": "markdown",
   "metadata": {},
   "source": [
    "#### Is 50th order a returned order or processed order?\n",
    "\n",
    "- Returned Order\n",
    "- Processed Order\n"
   ]
  },
  {
   "cell_type": "code",
   "execution_count": 6,
   "metadata": {
    "ExecuteTime": {
     "end_time": "2022-08-18T14:17:51.029805Z",
     "start_time": "2022-08-18T14:17:51.015842Z"
    }
   },
   "outputs": [
    {
     "name": "stdout",
     "output_type": "stream",
     "text": [
      "50th Order is a **processed order**\n"
     ]
    }
   ],
   "source": [
    "if 1099 in processed_orders:\n",
    "    print('50th Order is a **processed order**')\n",
    "else:\n",
    "    print('50th Order is not a processed order')"
   ]
  },
  {
   "cell_type": "code",
   "execution_count": 7,
   "metadata": {
    "ExecuteTime": {
     "end_time": "2022-08-18T14:17:51.045100Z",
     "start_time": "2022-08-18T14:17:51.033800Z"
    }
   },
   "outputs": [
    {
     "name": "stdout",
     "output_type": "stream",
     "text": [
      "50th Order is not a returned order\n"
     ]
    }
   ],
   "source": [
    "if 1099 in returned_orders:\n",
    "    print('50th Order is a returned order')\n",
    "else:\n",
    "    print('50th Order is not a returned order')"
   ]
  },
  {
   "cell_type": "markdown",
   "metadata": {},
   "source": [
    "#### What is the last processed order ID ? [ Note: Assume the order ID’s are being generated in a consecutive manner]\n",
    "\n",
    "- 1050\n",
    "- 1178\n",
    "- 1124\n",
    "- 1177\n",
    "\n"
   ]
  },
  {
   "cell_type": "code",
   "execution_count": 8,
   "metadata": {
    "ExecuteTime": {
     "end_time": "2022-08-18T14:17:51.061217Z",
     "start_time": "2022-08-18T14:17:51.048085Z"
    }
   },
   "outputs": [
    {
     "name": "stdout",
     "output_type": "stream",
     "text": [
      "Last orderID: 1178\n"
     ]
    }
   ],
   "source": [
    "# Last order processed:\n",
    "processed_orders = sorted(processed_orders)\n",
    "print(f\"Last orderID: {processed_orders[len(processed_orders)-1]}\")"
   ]
  },
  {
   "cell_type": "markdown",
   "metadata": {},
   "source": [
    "#### Identify the first 4 orders which are processed?\n",
    "\n",
    "- 1152, 1154, 1155, 1156\n",
    "- 1051, 1152, 1153, 1154\n",
    "- 1050, 1051, 1052, 1054\n",
    "- 1050, 1051, 1052, 1053"
   ]
  },
  {
   "cell_type": "code",
   "execution_count": 9,
   "metadata": {
    "ExecuteTime": {
     "end_time": "2022-08-18T14:17:51.077078Z",
     "start_time": "2022-08-18T14:17:51.063084Z"
    }
   },
   "outputs": [
    {
     "name": "stdout",
     "output_type": "stream",
     "text": [
      "The first 4 processed orders: orderID: [1050, 1051, 1052, 1054]\n"
     ]
    }
   ],
   "source": [
    "# First Four orders processed:\n",
    "print(f\"The first 4 processed orders: orderID: {processed_orders[:4]}\")"
   ]
  }
 ],
 "metadata": {
  "kernelspec": {
   "display_name": "Python 3 (ipykernel)",
   "language": "python",
   "name": "python3"
  },
  "language_info": {
   "codemirror_mode": {
    "name": "ipython",
    "version": 3
   },
   "file_extension": ".py",
   "mimetype": "text/x-python",
   "name": "python",
   "nbconvert_exporter": "python",
   "pygments_lexer": "ipython3",
   "version": "3.9.12"
  }
 },
 "nbformat": 4,
 "nbformat_minor": 2
}
